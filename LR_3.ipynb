{
 "cells": [
  {
   "cell_type": "markdown",
   "metadata": {},
   "source": [
    "# Importing"
   ]
  },
  {
   "cell_type": "code",
   "execution_count": 34,
   "metadata": {
    "ExecuteTime": {
     "end_time": "2022-01-20T05:47:20.426775Z",
     "start_time": "2022-01-20T05:47:20.415773Z"
    }
   },
   "outputs": [],
   "source": [
    "import pandas as pd\n",
    "import numpy as np\n",
    "import math"
   ]
  },
  {
   "cell_type": "markdown",
   "metadata": {},
   "source": [
    "# Reading data"
   ]
  },
  {
   "cell_type": "code",
   "execution_count": 2,
   "metadata": {
    "ExecuteTime": {
     "end_time": "2022-01-20T05:11:39.685088Z",
     "start_time": "2022-01-20T05:11:39.635901Z"
    }
   },
   "outputs": [],
   "source": [
    "dtype_dict = {'bathrooms':float, 'waterfront':int, 'sqft_above':int, 'sqft_living15':float, 'grade':int, 'yr_renovated':int, 'price':float, 'bedrooms':float, 'zipcode':str, 'long':float, 'sqft_lot15':float, 'sqft_living':float, 'floors':str, 'condition':int, 'lat':float, 'date':str, 'sqft_basement':int, 'yr_built':int, 'id':str, 'sqft_lot':int, 'view':int}\n",
    "train_data = pd.read_csv('kc_house_train_data.csv',dtype=dtype_dict)\n",
    "test_data = pd.read_csv('kc_house_test_data.csv', dtype=dtype_dict)"
   ]
  },
  {
   "cell_type": "markdown",
   "metadata": {},
   "source": [
    "# Converting to numpy function"
   ]
  },
  {
   "cell_type": "code",
   "execution_count": 15,
   "metadata": {
    "ExecuteTime": {
     "end_time": "2022-01-20T05:32:17.521921Z",
     "start_time": "2022-01-20T05:32:17.504923Z"
    }
   },
   "outputs": [],
   "source": [
    "def get_numpy_data(data, features, output):\n",
    "    data['constant'] = 1 # add a constant column to an SFrame\n",
    "    # prepend variable 'constant' to the features list\n",
    "    features = ['constant'] + features\n",
    "    # select the columns of data_SFrame given by the ‘features’ list into the SFrame ‘features_sframe’\n",
    "\n",
    "    # this will convert the features into a numpy matrix:\n",
    "    features_matrix = data[features].to_numpy()\n",
    "    # assign the column of data associated with the target to the variable ‘output_array’\n",
    "    output_array = data[output].to_numpy()\n",
    "    return features_matrix, output_array \n"
   ]
  },
  {
   "cell_type": "markdown",
   "metadata": {},
   "source": [
    "# Finding predictions functions"
   ]
  },
  {
   "cell_type": "code",
   "execution_count": 14,
   "metadata": {
    "ExecuteTime": {
     "end_time": "2022-01-20T05:32:15.964388Z",
     "start_time": "2022-01-20T05:32:15.949389Z"
    }
   },
   "outputs": [],
   "source": [
    "def predict_outcome(feature_matrix, weights):\n",
    "    predictions = np.dot(feature_matrix, weights)\n",
    "    return predictions\n"
   ]
  },
  {
   "cell_type": "markdown",
   "metadata": {},
   "source": [
    "# Finding derivative function"
   ]
  },
  {
   "cell_type": "code",
   "execution_count": 49,
   "metadata": {
    "ExecuteTime": {
     "end_time": "2022-01-20T06:29:15.843557Z",
     "start_time": "2022-01-20T06:29:15.836480Z"
    }
   },
   "outputs": [],
   "source": [
    "def feature_derivative(errors, feature):\n",
    "    derivative = -2*np.dot(feature, errors)\n",
    "    return derivative "
   ]
  },
  {
   "cell_type": "markdown",
   "metadata": {},
   "source": [
    "# Finding weights function"
   ]
  },
  {
   "cell_type": "code",
   "execution_count": 63,
   "metadata": {
    "ExecuteTime": {
     "end_time": "2022-01-20T06:34:44.020293Z",
     "start_time": "2022-01-20T06:34:44.002219Z"
    }
   },
   "outputs": [],
   "source": [
    "def regression_gradient_descent(feature_matrix, output, initial_weights, step_size, tolerance):\n",
    "    converged = False\n",
    "    weights = np.array(initial_weights)\n",
    "    while not converged:\n",
    "        # compute the predictions based on feature_matrix and weights:\n",
    "        predictions = predict_outcome(feature_matrix, weights)\n",
    "        # compute the errors as predictions - output:\n",
    "        errors = predictions - output\n",
    "        gradient_sum_squares = 0 # initialize the gradient\n",
    "        # while not converged, update each weight individually:\n",
    "        for i in range(len(weights)):\n",
    "            # Recall that feature_matrix[:, i] is the feature column associated with weights[i]\n",
    "            # compute the derivative for weight[i]:\n",
    "            derivative_i = feature_derivative(errors, feature_matrix[:,i])\n",
    "            # add the squared derivative to the gradient magnitude\n",
    "            gradient_sum_squares = gradient_sum_squares + derivative_i**2\n",
    "            # update the weight based on step size and derivative:\n",
    "            weights[i] = weights[i]- (step_size*derivative_i)\n",
    "        gradient_magnitude = math.sqrt(gradient_sum_squares)\n",
    "        if gradient_magnitude < tolerance:\n",
    "            converged = True\n",
    "    return weights\n"
   ]
  },
  {
   "cell_type": "markdown",
   "metadata": {},
   "source": [
    "# Finding RSS function"
   ]
  },
  {
   "cell_type": "code",
   "execution_count": 71,
   "metadata": {
    "ExecuteTime": {
     "end_time": "2022-01-20T06:45:58.434828Z",
     "start_time": "2022-01-20T06:45:58.421831Z"
    }
   },
   "outputs": [],
   "source": [
    "def get_residual_sum_of_squares(output, predictions):\n",
    "    RSS = sum((output-predictions)**2)\n",
    "    return RSS "
   ]
  },
  {
   "cell_type": "markdown",
   "metadata": {},
   "source": [
    "# finding weights for model 1"
   ]
  },
  {
   "cell_type": "code",
   "execution_count": 64,
   "metadata": {
    "ExecuteTime": {
     "end_time": "2022-01-20T06:34:44.609605Z",
     "start_time": "2022-01-20T06:34:44.603604Z"
    }
   },
   "outputs": [],
   "source": [
    "simple_features = ['sqft_living']\n",
    "my_output= 'price'\n",
    "simple_feature_matrix, output = get_numpy_data(train_data, simple_features, my_output)\n",
    "initial_weights = [-47000., 1.]\n",
    "step_size = 7e-12\n",
    "tolerance = 2.5e7"
   ]
  },
  {
   "cell_type": "code",
   "execution_count": 66,
   "metadata": {
    "ExecuteTime": {
     "end_time": "2022-01-20T06:34:59.205172Z",
     "start_time": "2022-01-20T06:34:59.194176Z"
    }
   },
   "outputs": [
    {
     "data": {
      "text/plain": [
       "array([-46999.88716555,    281.91211918])"
      ]
     },
     "execution_count": 66,
     "metadata": {},
     "output_type": "execute_result"
    }
   ],
   "source": [
    "simple_weights = regression_gradient_descent(simple_feature_matrix, output,initial_weights, step_size,tolerance)\n",
    "simple_weights"
   ]
  },
  {
   "cell_type": "code",
   "execution_count": 55,
   "metadata": {
    "ExecuteTime": {
     "end_time": "2022-01-20T06:32:46.229191Z",
     "start_time": "2022-01-20T06:32:46.215190Z"
    }
   },
   "outputs": [
    {
     "data": {
      "text/plain": [
       "array([-46999.88716555,    281.91211918])"
      ]
     },
     "execution_count": 55,
     "metadata": {},
     "output_type": "execute_result"
    }
   ],
   "source": [
    "simple_weights"
   ]
  },
  {
   "cell_type": "markdown",
   "metadata": {},
   "source": [
    "# Quiz Question: \n",
    "\n",
    "**What is the value of the weight for sqft_living -- the second element of ‘simple_weights’ (rounded to 1 decimal place)?**\n",
    "\n",
    "***281.9***\n",
    "\n"
   ]
  },
  {
   "cell_type": "markdown",
   "metadata": {},
   "source": [
    "# predicting house prices on test data, model 1"
   ]
  },
  {
   "cell_type": "code",
   "execution_count": 68,
   "metadata": {
    "ExecuteTime": {
     "end_time": "2022-01-20T06:38:52.536990Z",
     "start_time": "2022-01-20T06:38:52.517992Z"
    }
   },
   "outputs": [],
   "source": [
    "simple_features = ['sqft_living']\n",
    "my_output= 'price'\n",
    "test_simple_feature_matrix, test_output = get_numpy_data(test_data, simple_features, my_output)"
   ]
  },
  {
   "cell_type": "code",
   "execution_count": 70,
   "metadata": {
    "ExecuteTime": {
     "end_time": "2022-01-20T06:42:02.104335Z",
     "start_time": "2022-01-20T06:42:02.085279Z"
    }
   },
   "outputs": [
    {
     "data": {
      "text/plain": [
       "array([356134.443255  , 784640.86440132, 435069.83662406, ...,\n",
       "       663418.65315598, 604217.10812919, 240550.47439317])"
      ]
     },
     "execution_count": 70,
     "metadata": {},
     "output_type": "execute_result"
    }
   ],
   "source": [
    "test_predictions = predict_outcome(test_simple_feature_matrix, simple_weights)\n",
    "test_predictions"
   ]
  },
  {
   "cell_type": "markdown",
   "metadata": {},
   "source": [
    "# Quiz Question:\n",
    "\n",
    "**What is the predicted price for the 1st house in the Test data set for model 1 (round to nearest dollar)?**\n",
    "\n",
    "***356134***\n",
    "\n"
   ]
  },
  {
   "cell_type": "markdown",
   "metadata": {},
   "source": [
    "# RSS of model 1 all test data\n"
   ]
  },
  {
   "cell_type": "code",
   "execution_count": 81,
   "metadata": {
    "ExecuteTime": {
     "end_time": "2022-01-20T07:00:01.937747Z",
     "start_time": "2022-01-20T07:00:01.929820Z"
    }
   },
   "outputs": [
    {
     "data": {
      "text/plain": [
       "'2.754000e+14'"
      ]
     },
     "execution_count": 81,
     "metadata": {},
     "output_type": "execute_result"
    }
   ],
   "source": [
    "RSS1_test = get_residual_sum_of_squares(test_output,test_predictions)\n",
    "\"{:e}\".format(RSS1_test)"
   ]
  },
  {
   "cell_type": "markdown",
   "metadata": {},
   "source": [
    "# finding weights for model 2"
   ]
  },
  {
   "cell_type": "code",
   "execution_count": 74,
   "metadata": {
    "ExecuteTime": {
     "end_time": "2022-01-20T06:54:22.630574Z",
     "start_time": "2022-01-20T06:54:22.610582Z"
    }
   },
   "outputs": [],
   "source": [
    "model_features = ['sqft_living', 'sqft_living15']\n",
    "my_output = 'price'\n",
    "feature_matrix, output = get_numpy_data(train_data, model_features,my_output)\n",
    "initial_weights = [-100000., 1., 1.]\n",
    "step_size = 4e-12\n",
    "tolerance = 1e9"
   ]
  },
  {
   "cell_type": "code",
   "execution_count": 75,
   "metadata": {
    "ExecuteTime": {
     "end_time": "2022-01-20T06:54:23.240393Z",
     "start_time": "2022-01-20T06:54:23.166394Z"
    }
   },
   "outputs": [
    {
     "data": {
      "text/plain": [
       "array([-9.99999688e+04,  2.45072603e+02,  6.52795267e+01])"
      ]
     },
     "execution_count": 75,
     "metadata": {},
     "output_type": "execute_result"
    }
   ],
   "source": [
    "model2_weights = regression_gradient_descent(feature_matrix, output,initial_weights, step_size,tolerance)\n",
    "model2_weights"
   ]
  },
  {
   "cell_type": "markdown",
   "metadata": {},
   "source": [
    "# predicting house prices on test data, model 2"
   ]
  },
  {
   "cell_type": "code",
   "execution_count": 77,
   "metadata": {
    "ExecuteTime": {
     "end_time": "2022-01-20T06:56:25.512405Z",
     "start_time": "2022-01-20T06:56:25.503405Z"
    }
   },
   "outputs": [
    {
     "data": {
      "text/plain": [
       "array([366651.41162949, 762662.39850726, 386312.09557541, ...,\n",
       "       682087.39916306, 585579.27901327, 216559.20391786])"
      ]
     },
     "execution_count": 77,
     "metadata": {},
     "output_type": "execute_result"
    }
   ],
   "source": [
    "test_feature_matrix, test_output = get_numpy_data(test_data, model_features, my_output)\n",
    "test_predictions_model2 = predict_outcome(test_feature_matrix, model2_weights)\n",
    "test_predictions_model2"
   ]
  },
  {
   "cell_type": "markdown",
   "metadata": {},
   "source": [
    "# Quiz Question: \n",
    "\n",
    "**What is the predicted price for the 1st house in the TEST data set for model 2 (round to nearest dollar)?**\n",
    "\n",
    "***366651***\n"
   ]
  },
  {
   "cell_type": "markdown",
   "metadata": {},
   "source": [
    "# question\n",
    "\n",
    "**What is the actual price for the 1st house in the Test data set?**\n",
    "\n"
   ]
  },
  {
   "cell_type": "code",
   "execution_count": 78,
   "metadata": {
    "ExecuteTime": {
     "end_time": "2022-01-20T06:57:43.003256Z",
     "start_time": "2022-01-20T06:57:42.987331Z"
    }
   },
   "outputs": [
    {
     "data": {
      "text/plain": [
       "310000.0"
      ]
     },
     "execution_count": 78,
     "metadata": {},
     "output_type": "execute_result"
    }
   ],
   "source": [
    "test_output[0]"
   ]
  },
  {
   "cell_type": "markdown",
   "metadata": {},
   "source": [
    "# Quiz Question: \n",
    "\n",
    "**Which estimate was closer to the true price for the 1st house on the TEST data set, model 1 or model 2?**\n",
    "\n",
    "\n",
    "***model 1***\n",
    "\n"
   ]
  },
  {
   "cell_type": "markdown",
   "metadata": {},
   "source": [
    "# RSS of model 2 all test data\n"
   ]
  },
  {
   "cell_type": "code",
   "execution_count": 80,
   "metadata": {
    "ExecuteTime": {
     "end_time": "2022-01-20T06:59:51.148086Z",
     "start_time": "2022-01-20T06:59:51.128086Z"
    }
   },
   "outputs": [
    {
     "data": {
      "text/plain": [
       "'2.702634e+14'"
      ]
     },
     "execution_count": 80,
     "metadata": {},
     "output_type": "execute_result"
    }
   ],
   "source": [
    "RSS2_test = get_residual_sum_of_squares(test_output,test_predictions_model2)\n",
    "\"{:e}\".format(RSS2_test)"
   ]
  },
  {
   "cell_type": "markdown",
   "metadata": {},
   "source": [
    "# Quiz Question: \n",
    "\n",
    "**Which model (1 or 2) has lowest RSS on all of the TEST data?**\n",
    "\n",
    "***model 2***"
   ]
  }
 ],
 "metadata": {
  "kernelspec": {
   "display_name": "Python 3",
   "language": "python",
   "name": "python3"
  },
  "language_info": {
   "codemirror_mode": {
    "name": "ipython",
    "version": 3
   },
   "file_extension": ".py",
   "mimetype": "text/x-python",
   "name": "python",
   "nbconvert_exporter": "python",
   "pygments_lexer": "ipython3",
   "version": "3.8.3"
  },
  "toc": {
   "base_numbering": 1,
   "nav_menu": {},
   "number_sections": true,
   "sideBar": true,
   "skip_h1_title": false,
   "title_cell": "Table of Contents",
   "title_sidebar": "Contents",
   "toc_cell": false,
   "toc_position": {},
   "toc_section_display": true,
   "toc_window_display": true
  },
  "varInspector": {
   "cols": {
    "lenName": 16,
    "lenType": 16,
    "lenVar": 40
   },
   "kernels_config": {
    "python": {
     "delete_cmd_postfix": "",
     "delete_cmd_prefix": "del ",
     "library": "var_list.py",
     "varRefreshCmd": "print(var_dic_list())"
    },
    "r": {
     "delete_cmd_postfix": ") ",
     "delete_cmd_prefix": "rm(",
     "library": "var_list.r",
     "varRefreshCmd": "cat(var_dic_list()) "
    }
   },
   "types_to_exclude": [
    "module",
    "function",
    "builtin_function_or_method",
    "instance",
    "_Feature"
   ],
   "window_display": false
  }
 },
 "nbformat": 4,
 "nbformat_minor": 4
}
