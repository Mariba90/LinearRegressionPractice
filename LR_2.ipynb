{
 "cells": [
  {
   "cell_type": "markdown",
   "metadata": {},
   "source": [
    "# Regression Week 2: Multiple Regression (Interpretation)"
   ]
  },
  {
   "cell_type": "markdown",
   "metadata": {},
   "source": [
    "The goal of this first notebook is to explore multiple regression and feature engineering with existing Turi Create functions.\n",
    "\n",
    "In this notebook you will use data on house sales in King County to predict prices using multiple regression. You will:\n",
    "* Use SFrames to do some feature engineering\n",
    "* Use built-in Turi Create functions to compute the regression weights (coefficients/parameters)\n",
    "* Given the regression weights, predictors and outcome write a function to compute the Residual Sum of Squares\n",
    "* Look at coefficients and interpret their meanings\n",
    "* Evaluate multiple models via RSS"
   ]
  },
  {
   "cell_type": "markdown",
   "metadata": {},
   "source": [
    "# Fire up Turi Create"
   ]
  },
  {
   "cell_type": "code",
   "execution_count": 3,
   "metadata": {
    "ExecuteTime": {
     "end_time": "2022-01-20T03:52:00.940212Z",
     "start_time": "2022-01-20T03:52:00.929212Z"
    }
   },
   "outputs": [],
   "source": [
    "# import turicreate\n",
    "import pandas as pd\n",
    "import numpy as np"
   ]
  },
  {
   "cell_type": "markdown",
   "metadata": {},
   "source": [
    "# Load in house sales data\n",
    "\n",
    "Dataset is from house sales in King County, the region where the city of Seattle, WA is located."
   ]
  },
  {
   "cell_type": "code",
   "execution_count": null,
   "metadata": {
    "scrolled": true
   },
   "outputs": [],
   "source": [
    "sales = turicreate.SFrame('home_data.sframe/')"
   ]
  },
  {
   "cell_type": "markdown",
   "metadata": {},
   "source": [
    "# Split data into training and testing.\n",
    "We use seed=0 so that everyone running this notebook gets the same results.  In practice, you may set a random seed (or let Turi Create pick a random seed for you).  "
   ]
  },
  {
   "cell_type": "code",
   "execution_count": 6,
   "metadata": {
    "ExecuteTime": {
     "end_time": "2022-01-20T03:52:31.619031Z",
     "start_time": "2022-01-20T03:52:31.607031Z"
    }
   },
   "outputs": [],
   "source": [
    "#train_data,test_data = sales.random_split(.8,seed=0)"
   ]
  },
  {
   "cell_type": "code",
   "execution_count": 4,
   "metadata": {
    "ExecuteTime": {
     "end_time": "2022-01-20T03:52:24.189047Z",
     "start_time": "2022-01-20T03:52:24.095281Z"
    }
   },
   "outputs": [],
   "source": [
    "dtype_dict = {'bathrooms':float, 'waterfront':int, 'sqft_above':int, 'sqft_living15':float, 'grade':int, 'yr_renovated':int, 'price':float, 'bedrooms':float, 'zipcode':str, 'long':float, 'sqft_lot15':float, 'sqft_living':float, 'floors':str, 'condition':int, 'lat':float, 'date':str, 'sqft_basement':int, 'yr_built':int, 'id':str, 'sqft_lot':int, 'view':int}\n",
    "train_data = pd.read_csv('kc_house_train_data.csv',dtype=dtype_dict)\n",
    "test_data = pd.read_csv('kc_house_test_data.csv', dtype=dtype_dict)"
   ]
  },
  {
   "cell_type": "markdown",
   "metadata": {},
   "source": [
    "# Learning a multiple regression model"
   ]
  },
  {
   "cell_type": "markdown",
   "metadata": {},
   "source": [
    "Recall we can use the following code to learn a multiple regression model predicting 'price' based on the following features:\n",
    "example_features = ['sqft_living', 'bedrooms', 'bathrooms'] on training data with the following code:\n",
    "\n",
    "(Aside: We set validation_set = None to ensure that the results are always the same)"
   ]
  },
  {
   "cell_type": "code",
   "execution_count": null,
   "metadata": {},
   "outputs": [],
   "source": [
    "example_features = ['sqft_living', 'bedrooms', 'bathrooms']\n",
    "example_model = turicreate.linear_regression.create(train_data, target = 'price', features = example_features, \n",
    "                                                    validation_set = None)"
   ]
  },
  {
   "cell_type": "markdown",
   "metadata": {},
   "source": [
    "Now that we have fitted the model we can extract the regression weights (coefficients) as an SFrame as follows:"
   ]
  },
  {
   "cell_type": "code",
   "execution_count": null,
   "metadata": {},
   "outputs": [],
   "source": [
    "example_weight_summary = example_model.coefficients\n",
    "print example_weight_summary"
   ]
  },
  {
   "cell_type": "markdown",
   "metadata": {},
   "source": [
    "# Making Predictions\n",
    "\n",
    "In the gradient descent notebook we use numpy to do our regression. In this book we will use existing Turi Create functions to analyze multiple regressions. \n",
    "\n",
    "Recall that once a model is built we can use the .predict() function to find the predicted values for data we pass. For example using the example model above:"
   ]
  },
  {
   "cell_type": "code",
   "execution_count": null,
   "metadata": {},
   "outputs": [],
   "source": [
    "example_predictions = example_model.predict(train_data)\n",
    "print example_predictions[0] # should be 271789.505878"
   ]
  },
  {
   "cell_type": "markdown",
   "metadata": {},
   "source": [
    "# Compute RSS"
   ]
  },
  {
   "cell_type": "markdown",
   "metadata": {},
   "source": [
    "Now that we can make predictions given the model, let's write a function to compute the RSS of the model. Complete the function below to calculate RSS given the model, data, and the outcome."
   ]
  },
  {
   "cell_type": "code",
   "execution_count": 26,
   "metadata": {
    "ExecuteTime": {
     "end_time": "2022-01-20T04:39:19.080983Z",
     "start_time": "2022-01-20T04:39:19.063982Z"
    }
   },
   "outputs": [],
   "source": [
    "def get_residual_sum_of_squares(model, data, outcome):\n",
    "    # First get the predictions\n",
    "    y_hat = model.predict(data)\n",
    "    # Then compute the residuals/errors\n",
    "    # Then square and add them up\n",
    "    RSS = sum((outcome-y_hat)**2)\n",
    "    return(RSS)    "
   ]
  },
  {
   "cell_type": "markdown",
   "metadata": {},
   "source": [
    "Test your function by computing the RSS on TEST data for the example model:"
   ]
  },
  {
   "cell_type": "code",
   "execution_count": null,
   "metadata": {},
   "outputs": [],
   "source": [
    "rss_example_train = get_residual_sum_of_squares(example_model, test_data, test_data['price'])\n",
    "print rss_example_train # should be 2.7376153833e+14"
   ]
  },
  {
   "cell_type": "markdown",
   "metadata": {},
   "source": [
    "# Create some new features"
   ]
  },
  {
   "cell_type": "markdown",
   "metadata": {},
   "source": [
    "Although we often think of multiple regression as including multiple different features (e.g. # of bedrooms, squarefeet, and # of bathrooms) but we can also consider transformations of existing features e.g. the log of the squarefeet or even \"interaction\" features such as the product of bedrooms and bathrooms."
   ]
  },
  {
   "cell_type": "markdown",
   "metadata": {},
   "source": [
    "You will use the logarithm function to create a new feature. so first you should import it from the math library."
   ]
  },
  {
   "cell_type": "code",
   "execution_count": 16,
   "metadata": {
    "ExecuteTime": {
     "end_time": "2022-01-20T04:11:18.205957Z",
     "start_time": "2022-01-20T04:11:16.834248Z"
    }
   },
   "outputs": [],
   "source": [
    "from math import log\n",
    "import statsmodels.api as sm\n"
   ]
  },
  {
   "cell_type": "markdown",
   "metadata": {},
   "source": [
    "Next create the following 4 new features as column in both TEST and TRAIN data:\n",
    "* bedrooms_squared = bedrooms\\*bedrooms\n",
    "* bed_bath_rooms = bedrooms\\*bathrooms\n",
    "* log_sqft_living = log(sqft_living)\n",
    "* lat_plus_long = lat + long \n",
    "As an example here's the first one:"
   ]
  },
  {
   "cell_type": "code",
   "execution_count": 8,
   "metadata": {
    "ExecuteTime": {
     "end_time": "2022-01-20T03:53:21.672806Z",
     "start_time": "2022-01-20T03:53:21.656805Z"
    }
   },
   "outputs": [],
   "source": [
    "train_data['bedrooms_squared'] = train_data['bedrooms'].apply(lambda x: x**2)\n",
    "test_data['bedrooms_squared'] = test_data['bedrooms'].apply(lambda x: x**2)"
   ]
  },
  {
   "cell_type": "code",
   "execution_count": 12,
   "metadata": {
    "ExecuteTime": {
     "end_time": "2022-01-20T04:04:27.912579Z",
     "start_time": "2022-01-20T04:04:27.889582Z"
    }
   },
   "outputs": [],
   "source": [
    "# create the remaining 3 features in both TEST and TRAIN data\n",
    "train_data['bed_bath_rooms'] = train_data['bedrooms'] * train_data['bathrooms']\n",
    "test_data['bed_bath_rooms'] = test_data['bedrooms'] * test_data['bathrooms']\n",
    "train_data['log_sqft_living'] = train_data['sqft_living'].apply(lambda x: log(x))\n",
    "test_data['log_sqft_living'] = test_data['sqft_living'].apply(lambda x: log(x))\n",
    "train_data['lat_plus_long'] = train_data['lat'] + train_data['long']\n",
    "test_data['lat_plus_long'] = test_data['lat'] + test_data ['long']"
   ]
  },
  {
   "cell_type": "markdown",
   "metadata": {},
   "source": [
    "* Squaring bedrooms will increase the separation between not many bedrooms (e.g. 1) and lots of bedrooms (e.g. 4) since 1^2 = 1 but 4^2 = 16. Consequently this feature will mostly affect houses with many bedrooms.\n",
    "* bedrooms times bathrooms gives what's called an \"interaction\" feature. It is large when *both* of them are large.\n",
    "* Taking the log of squarefeet has the effect of bringing large values closer together and spreading out small values.\n",
    "* Adding latitude to longitude is totally non-sensical but we will do it anyway (you'll see why)"
   ]
  },
  {
   "cell_type": "markdown",
   "metadata": {},
   "source": [
    "**Quiz Question: What is the mean (arithmetic average) value of your 4 new features on TEST data? (round to 2 digits)**"
   ]
  },
  {
   "cell_type": "code",
   "execution_count": 14,
   "metadata": {
    "ExecuteTime": {
     "end_time": "2022-01-20T04:04:57.310874Z",
     "start_time": "2022-01-20T04:04:57.295875Z"
    }
   },
   "outputs": [
    {
     "name": "stdout",
     "output_type": "stream",
     "text": [
      "12.4466777015843 7.5039016315913925 7.550274679645921 -74.65333355403185\n"
     ]
    }
   ],
   "source": [
    "mean_bedrooms_squared = test_data ['bedrooms_squared'].mean()\n",
    "mean_bed_bath_rooms = test_data ['bed_bath_rooms'].mean()\n",
    "mean_log_sqft_living = test_data ['log_sqft_living'].mean()\n",
    "mean_lat_plus_long = test_data ['lat_plus_long'].mean()\n",
    "print(mean_bedrooms_squared,mean_bed_bath_rooms,mean_log_sqft_living,mean_lat_plus_long)"
   ]
  },
  {
   "cell_type": "markdown",
   "metadata": {},
   "source": [
    "# Learning Multiple Models"
   ]
  },
  {
   "cell_type": "markdown",
   "metadata": {},
   "source": [
    "Now we will learn the weights for three (nested) models for predicting house prices. The first model will have the fewest features the second model will add one more feature and the third will add a few more:\n",
    "* Model 1: squarefeet, # bedrooms, # bathrooms, latitude & longitude\n",
    "* Model 2: add bedrooms\\*bathrooms\n",
    "* Model 3: Add log squarefeet, bedrooms squared, and the (nonsensical) latitude + longitude"
   ]
  },
  {
   "cell_type": "code",
   "execution_count": 15,
   "metadata": {
    "ExecuteTime": {
     "end_time": "2022-01-20T04:06:35.661012Z",
     "start_time": "2022-01-20T04:06:35.653981Z"
    }
   },
   "outputs": [],
   "source": [
    "model_1_features = ['sqft_living', 'bedrooms', 'bathrooms', 'lat', 'long']\n",
    "model_2_features = model_1_features + ['bed_bath_rooms']\n",
    "model_3_features = model_2_features + ['bedrooms_squared', 'log_sqft_living', 'lat_plus_long']"
   ]
  },
  {
   "cell_type": "markdown",
   "metadata": {},
   "source": [
    "Now that you have the features, learn the weights for the three different models for predicting target = 'price' using turicreate.linear_regression.create() and look at the value of the weights/coefficients:"
   ]
  },
  {
   "cell_type": "code",
   "execution_count": 17,
   "metadata": {
    "ExecuteTime": {
     "end_time": "2022-01-20T04:16:03.275108Z",
     "start_time": "2022-01-20T04:16:03.148540Z"
    }
   },
   "outputs": [],
   "source": [
    "# Learn the three models: (don't forget to set validation_set = None)\n",
    "y = train_data['price']\n",
    "\n",
    "X1 = train_data[model_1_features]\n",
    "X1 = sm.add_constant(X1)\n",
    "ols_1 = sm.OLS(y, X1).fit()\n",
    "\n",
    "X2 = train_data[model_2_features]\n",
    "X2 = sm.add_constant(X2)\n",
    "ols_2 = sm.OLS(y, X2).fit()\n",
    "\n",
    "\n",
    "X3 = train_data[model_3_features]\n",
    "X3 = sm.add_constant(X3)\n",
    "ols_3 = sm.OLS(y, X3).fit()\n",
    "\n",
    "\n"
   ]
  },
  {
   "cell_type": "code",
   "execution_count": 19,
   "metadata": {
    "ExecuteTime": {
     "end_time": "2022-01-20T04:16:11.027071Z",
     "start_time": "2022-01-20T04:16:10.988071Z"
    }
   },
   "outputs": [
    {
     "data": {
      "text/html": [
       "<table class=\"simpletable\">\n",
       "<caption>OLS Regression Results</caption>\n",
       "<tr>\n",
       "  <th>Dep. Variable:</th>          <td>price</td>      <th>  R-squared:         </th>  <td>   0.593</td>  \n",
       "</tr>\n",
       "<tr>\n",
       "  <th>Model:</th>                   <td>OLS</td>       <th>  Adj. R-squared:    </th>  <td>   0.592</td>  \n",
       "</tr>\n",
       "<tr>\n",
       "  <th>Method:</th>             <td>Least Squares</td>  <th>  F-statistic:       </th>  <td>   5056.</td>  \n",
       "</tr>\n",
       "<tr>\n",
       "  <th>Date:</th>             <td>Wed, 19 Jan 2022</td> <th>  Prob (F-statistic):</th>   <td>  0.00</td>   \n",
       "</tr>\n",
       "<tr>\n",
       "  <th>Time:</th>                 <td>22:16:11</td>     <th>  Log-Likelihood:    </th> <td>-2.3973e+05</td>\n",
       "</tr>\n",
       "<tr>\n",
       "  <th>No. Observations:</th>      <td> 17384</td>      <th>  AIC:               </th>  <td>4.795e+05</td> \n",
       "</tr>\n",
       "<tr>\n",
       "  <th>Df Residuals:</th>          <td> 17378</td>      <th>  BIC:               </th>  <td>4.795e+05</td> \n",
       "</tr>\n",
       "<tr>\n",
       "  <th>Df Model:</th>              <td>     5</td>      <th>                     </th>      <td> </td>     \n",
       "</tr>\n",
       "<tr>\n",
       "  <th>Covariance Type:</th>      <td>nonrobust</td>    <th>                     </th>      <td> </td>     \n",
       "</tr>\n",
       "</table>\n",
       "<table class=\"simpletable\">\n",
       "<tr>\n",
       "       <td></td>          <th>coef</th>     <th>std err</th>      <th>t</th>      <th>P>|t|</th>  <th>[0.025</th>    <th>0.975]</th>  \n",
       "</tr>\n",
       "<tr>\n",
       "  <th>const</th>       <td>-6.908e+07</td> <td> 1.65e+06</td> <td>  -41.940</td> <td> 0.000</td> <td>-7.23e+07</td> <td>-6.58e+07</td>\n",
       "</tr>\n",
       "<tr>\n",
       "  <th>sqft_living</th> <td>  312.2586</td> <td>    3.183</td> <td>   98.097</td> <td> 0.000</td> <td>  306.019</td> <td>  318.498</td>\n",
       "</tr>\n",
       "<tr>\n",
       "  <th>bedrooms</th>    <td>-5.959e+04</td> <td> 2482.861</td> <td>  -23.999</td> <td> 0.000</td> <td>-6.45e+04</td> <td>-5.47e+04</td>\n",
       "</tr>\n",
       "<tr>\n",
       "  <th>bathrooms</th>   <td> 1.571e+04</td> <td> 3587.158</td> <td>    4.379</td> <td> 0.000</td> <td> 8675.552</td> <td> 2.27e+04</td>\n",
       "</tr>\n",
       "<tr>\n",
       "  <th>lat</th>         <td> 6.586e+05</td> <td> 1.31e+04</td> <td>   50.286</td> <td> 0.000</td> <td> 6.33e+05</td> <td> 6.84e+05</td>\n",
       "</tr>\n",
       "<tr>\n",
       "  <th>long</th>        <td>-3.094e+05</td> <td> 1.33e+04</td> <td>  -23.331</td> <td> 0.000</td> <td>-3.35e+05</td> <td>-2.83e+05</td>\n",
       "</tr>\n",
       "</table>\n",
       "<table class=\"simpletable\">\n",
       "<tr>\n",
       "  <th>Omnibus:</th>       <td>12962.917</td> <th>  Durbin-Watson:     </th>  <td>   2.008</td> \n",
       "</tr>\n",
       "<tr>\n",
       "  <th>Prob(Omnibus):</th>  <td> 0.000</td>   <th>  Jarque-Bera (JB):  </th> <td>615844.364</td>\n",
       "</tr>\n",
       "<tr>\n",
       "  <th>Skew:</th>           <td> 3.114</td>   <th>  Prob(JB):          </th>  <td>    0.00</td> \n",
       "</tr>\n",
       "<tr>\n",
       "  <th>Kurtosis:</th>       <td>31.486</td>   <th>  Cond. No.          </th>  <td>2.10e+06</td> \n",
       "</tr>\n",
       "</table><br/><br/>Warnings:<br/>[1] Standard Errors assume that the covariance matrix of the errors is correctly specified.<br/>[2] The condition number is large, 2.1e+06. This might indicate that there are<br/>strong multicollinearity or other numerical problems."
      ],
      "text/plain": [
       "<class 'statsmodels.iolib.summary.Summary'>\n",
       "\"\"\"\n",
       "                            OLS Regression Results                            \n",
       "==============================================================================\n",
       "Dep. Variable:                  price   R-squared:                       0.593\n",
       "Model:                            OLS   Adj. R-squared:                  0.592\n",
       "Method:                 Least Squares   F-statistic:                     5056.\n",
       "Date:                Wed, 19 Jan 2022   Prob (F-statistic):               0.00\n",
       "Time:                        22:16:11   Log-Likelihood:            -2.3973e+05\n",
       "No. Observations:               17384   AIC:                         4.795e+05\n",
       "Df Residuals:                   17378   BIC:                         4.795e+05\n",
       "Df Model:                           5                                         \n",
       "Covariance Type:            nonrobust                                         \n",
       "===============================================================================\n",
       "                  coef    std err          t      P>|t|      [0.025      0.975]\n",
       "-------------------------------------------------------------------------------\n",
       "const       -6.908e+07   1.65e+06    -41.940      0.000   -7.23e+07   -6.58e+07\n",
       "sqft_living   312.2586      3.183     98.097      0.000     306.019     318.498\n",
       "bedrooms    -5.959e+04   2482.861    -23.999      0.000   -6.45e+04   -5.47e+04\n",
       "bathrooms    1.571e+04   3587.158      4.379      0.000    8675.552    2.27e+04\n",
       "lat          6.586e+05   1.31e+04     50.286      0.000    6.33e+05    6.84e+05\n",
       "long        -3.094e+05   1.33e+04    -23.331      0.000   -3.35e+05   -2.83e+05\n",
       "==============================================================================\n",
       "Omnibus:                    12962.917   Durbin-Watson:                   2.008\n",
       "Prob(Omnibus):                  0.000   Jarque-Bera (JB):           615844.364\n",
       "Skew:                           3.114   Prob(JB):                         0.00\n",
       "Kurtosis:                      31.486   Cond. No.                     2.10e+06\n",
       "==============================================================================\n",
       "\n",
       "Warnings:\n",
       "[1] Standard Errors assume that the covariance matrix of the errors is correctly specified.\n",
       "[2] The condition number is large, 2.1e+06. This might indicate that there are\n",
       "strong multicollinearity or other numerical problems.\n",
       "\"\"\""
      ]
     },
     "execution_count": 19,
     "metadata": {},
     "output_type": "execute_result"
    }
   ],
   "source": [
    "# Examine/extract each model's coefficients:\n",
    "ols_1.summary()\n"
   ]
  },
  {
   "cell_type": "code",
   "execution_count": 20,
   "metadata": {
    "ExecuteTime": {
     "end_time": "2022-01-20T04:16:19.414556Z",
     "start_time": "2022-01-20T04:16:19.395557Z"
    }
   },
   "outputs": [
    {
     "data": {
      "text/html": [
       "<table class=\"simpletable\">\n",
       "<caption>OLS Regression Results</caption>\n",
       "<tr>\n",
       "  <th>Dep. Variable:</th>          <td>price</td>      <th>  R-squared:         </th>  <td>   0.597</td>  \n",
       "</tr>\n",
       "<tr>\n",
       "  <th>Model:</th>                   <td>OLS</td>       <th>  Adj. R-squared:    </th>  <td>   0.596</td>  \n",
       "</tr>\n",
       "<tr>\n",
       "  <th>Method:</th>             <td>Least Squares</td>  <th>  F-statistic:       </th>  <td>   4283.</td>  \n",
       "</tr>\n",
       "<tr>\n",
       "  <th>Date:</th>             <td>Wed, 19 Jan 2022</td> <th>  Prob (F-statistic):</th>   <td>  0.00</td>   \n",
       "</tr>\n",
       "<tr>\n",
       "  <th>Time:</th>                 <td>22:16:19</td>     <th>  Log-Likelihood:    </th> <td>-2.3965e+05</td>\n",
       "</tr>\n",
       "<tr>\n",
       "  <th>No. Observations:</th>      <td> 17384</td>      <th>  AIC:               </th>  <td>4.793e+05</td> \n",
       "</tr>\n",
       "<tr>\n",
       "  <th>Df Residuals:</th>          <td> 17377</td>      <th>  BIC:               </th>  <td>4.794e+05</td> \n",
       "</tr>\n",
       "<tr>\n",
       "  <th>Df Model:</th>              <td>     6</td>      <th>                     </th>      <td> </td>     \n",
       "</tr>\n",
       "<tr>\n",
       "  <th>Covariance Type:</th>      <td>nonrobust</td>    <th>                     </th>      <td> </td>     \n",
       "</tr>\n",
       "</table>\n",
       "<table class=\"simpletable\">\n",
       "<tr>\n",
       "         <td></td>           <th>coef</th>     <th>std err</th>      <th>t</th>      <th>P>|t|</th>  <th>[0.025</th>    <th>0.975]</th>  \n",
       "</tr>\n",
       "<tr>\n",
       "  <th>const</th>          <td>-6.687e+07</td> <td> 1.65e+06</td> <td>  -40.584</td> <td> 0.000</td> <td>-7.01e+07</td> <td>-6.36e+07</td>\n",
       "</tr>\n",
       "<tr>\n",
       "  <th>sqft_living</th>    <td>  306.6101</td> <td>    3.197</td> <td>   95.909</td> <td> 0.000</td> <td>  300.344</td> <td>  312.876</td>\n",
       "</tr>\n",
       "<tr>\n",
       "  <th>bedrooms</th>       <td>-1.134e+05</td> <td> 4797.612</td> <td>  -23.646</td> <td> 0.000</td> <td>-1.23e+05</td> <td>-1.04e+05</td>\n",
       "</tr>\n",
       "<tr>\n",
       "  <th>bathrooms</th>      <td>-7.146e+04</td> <td> 7552.563</td> <td>   -9.462</td> <td> 0.000</td> <td>-8.63e+04</td> <td>-5.67e+04</td>\n",
       "</tr>\n",
       "<tr>\n",
       "  <th>lat</th>            <td> 6.548e+05</td> <td>  1.3e+04</td> <td>   50.230</td> <td> 0.000</td> <td> 6.29e+05</td> <td>  6.8e+05</td>\n",
       "</tr>\n",
       "<tr>\n",
       "  <th>long</th>           <td>-2.943e+05</td> <td> 1.32e+04</td> <td>  -22.218</td> <td> 0.000</td> <td> -3.2e+05</td> <td>-2.68e+05</td>\n",
       "</tr>\n",
       "<tr>\n",
       "  <th>bed_bath_rooms</th> <td> 2.558e+04</td> <td> 1953.134</td> <td>   13.097</td> <td> 0.000</td> <td> 2.18e+04</td> <td> 2.94e+04</td>\n",
       "</tr>\n",
       "</table>\n",
       "<table class=\"simpletable\">\n",
       "<tr>\n",
       "  <th>Omnibus:</th>       <td>12343.124</td> <th>  Durbin-Watson:     </th>  <td>   2.010</td> \n",
       "</tr>\n",
       "<tr>\n",
       "  <th>Prob(Omnibus):</th>  <td> 0.000</td>   <th>  Jarque-Bera (JB):  </th> <td>533516.100</td>\n",
       "</tr>\n",
       "<tr>\n",
       "  <th>Skew:</th>           <td> 2.916</td>   <th>  Prob(JB):          </th>  <td>    0.00</td> \n",
       "</tr>\n",
       "<tr>\n",
       "  <th>Kurtosis:</th>       <td>29.506</td>   <th>  Cond. No.          </th>  <td>2.11e+06</td> \n",
       "</tr>\n",
       "</table><br/><br/>Warnings:<br/>[1] Standard Errors assume that the covariance matrix of the errors is correctly specified.<br/>[2] The condition number is large, 2.11e+06. This might indicate that there are<br/>strong multicollinearity or other numerical problems."
      ],
      "text/plain": [
       "<class 'statsmodels.iolib.summary.Summary'>\n",
       "\"\"\"\n",
       "                            OLS Regression Results                            \n",
       "==============================================================================\n",
       "Dep. Variable:                  price   R-squared:                       0.597\n",
       "Model:                            OLS   Adj. R-squared:                  0.596\n",
       "Method:                 Least Squares   F-statistic:                     4283.\n",
       "Date:                Wed, 19 Jan 2022   Prob (F-statistic):               0.00\n",
       "Time:                        22:16:19   Log-Likelihood:            -2.3965e+05\n",
       "No. Observations:               17384   AIC:                         4.793e+05\n",
       "Df Residuals:                   17377   BIC:                         4.794e+05\n",
       "Df Model:                           6                                         \n",
       "Covariance Type:            nonrobust                                         \n",
       "==================================================================================\n",
       "                     coef    std err          t      P>|t|      [0.025      0.975]\n",
       "----------------------------------------------------------------------------------\n",
       "const          -6.687e+07   1.65e+06    -40.584      0.000   -7.01e+07   -6.36e+07\n",
       "sqft_living      306.6101      3.197     95.909      0.000     300.344     312.876\n",
       "bedrooms       -1.134e+05   4797.612    -23.646      0.000   -1.23e+05   -1.04e+05\n",
       "bathrooms      -7.146e+04   7552.563     -9.462      0.000   -8.63e+04   -5.67e+04\n",
       "lat             6.548e+05    1.3e+04     50.230      0.000    6.29e+05     6.8e+05\n",
       "long           -2.943e+05   1.32e+04    -22.218      0.000    -3.2e+05   -2.68e+05\n",
       "bed_bath_rooms  2.558e+04   1953.134     13.097      0.000    2.18e+04    2.94e+04\n",
       "==============================================================================\n",
       "Omnibus:                    12343.124   Durbin-Watson:                   2.010\n",
       "Prob(Omnibus):                  0.000   Jarque-Bera (JB):           533516.100\n",
       "Skew:                           2.916   Prob(JB):                         0.00\n",
       "Kurtosis:                      29.506   Cond. No.                     2.11e+06\n",
       "==============================================================================\n",
       "\n",
       "Warnings:\n",
       "[1] Standard Errors assume that the covariance matrix of the errors is correctly specified.\n",
       "[2] The condition number is large, 2.11e+06. This might indicate that there are\n",
       "strong multicollinearity or other numerical problems.\n",
       "\"\"\""
      ]
     },
     "execution_count": 20,
     "metadata": {},
     "output_type": "execute_result"
    }
   ],
   "source": [
    "ols_2.summary()"
   ]
  },
  {
   "cell_type": "code",
   "execution_count": 21,
   "metadata": {
    "ExecuteTime": {
     "end_time": "2022-01-20T04:16:28.302431Z",
     "start_time": "2022-01-20T04:16:28.280435Z"
    }
   },
   "outputs": [
    {
     "data": {
      "text/html": [
       "<table class=\"simpletable\">\n",
       "<caption>OLS Regression Results</caption>\n",
       "<tr>\n",
       "  <th>Dep. Variable:</th>          <td>price</td>      <th>  R-squared:         </th>  <td>   0.620</td>  \n",
       "</tr>\n",
       "<tr>\n",
       "  <th>Model:</th>                   <td>OLS</td>       <th>  Adj. R-squared:    </th>  <td>   0.620</td>  \n",
       "</tr>\n",
       "<tr>\n",
       "  <th>Method:</th>             <td>Least Squares</td>  <th>  F-statistic:       </th>  <td>   3539.</td>  \n",
       "</tr>\n",
       "<tr>\n",
       "  <th>Date:</th>             <td>Wed, 19 Jan 2022</td> <th>  Prob (F-statistic):</th>   <td>  0.00</td>   \n",
       "</tr>\n",
       "<tr>\n",
       "  <th>Time:</th>                 <td>22:16:28</td>     <th>  Log-Likelihood:    </th> <td>-2.3913e+05</td>\n",
       "</tr>\n",
       "<tr>\n",
       "  <th>No. Observations:</th>      <td> 17384</td>      <th>  AIC:               </th>  <td>4.783e+05</td> \n",
       "</tr>\n",
       "<tr>\n",
       "  <th>Df Residuals:</th>          <td> 17375</td>      <th>  BIC:               </th>  <td>4.784e+05</td> \n",
       "</tr>\n",
       "<tr>\n",
       "  <th>Df Model:</th>              <td>     8</td>      <th>                     </th>      <td> </td>     \n",
       "</tr>\n",
       "<tr>\n",
       "  <th>Covariance Type:</th>      <td>nonrobust</td>    <th>                     </th>      <td> </td>     \n",
       "</tr>\n",
       "</table>\n",
       "<table class=\"simpletable\">\n",
       "<tr>\n",
       "          <td></td>            <th>coef</th>     <th>std err</th>      <th>t</th>      <th>P>|t|</th>  <th>[0.025</th>    <th>0.975]</th>  \n",
       "</tr>\n",
       "<tr>\n",
       "  <th>const</th>            <td>-6.204e+07</td> <td> 1.61e+06</td> <td>  -38.449</td> <td> 0.000</td> <td>-6.52e+07</td> <td>-5.89e+07</td>\n",
       "</tr>\n",
       "<tr>\n",
       "  <th>sqft_living</th>      <td>  529.4228</td> <td>    7.691</td> <td>   68.836</td> <td> 0.000</td> <td>  514.348</td> <td>  544.498</td>\n",
       "</tr>\n",
       "<tr>\n",
       "  <th>bedrooms</th>         <td> 3.451e+04</td> <td> 9385.891</td> <td>    3.677</td> <td> 0.000</td> <td> 1.61e+04</td> <td> 5.29e+04</td>\n",
       "</tr>\n",
       "<tr>\n",
       "  <th>bathrooms</th>        <td> 6.706e+04</td> <td> 1.08e+04</td> <td>    6.219</td> <td> 0.000</td> <td> 4.59e+04</td> <td> 8.82e+04</td>\n",
       "</tr>\n",
       "<tr>\n",
       "  <th>lat</th>              <td> 5.341e+05</td> <td> 8907.125</td> <td>   59.962</td> <td> 0.000</td> <td> 5.17e+05</td> <td> 5.52e+05</td>\n",
       "</tr>\n",
       "<tr>\n",
       "  <th>long</th>             <td>-4.068e+05</td> <td> 9007.995</td> <td>  -45.154</td> <td> 0.000</td> <td>-4.24e+05</td> <td>-3.89e+05</td>\n",
       "</tr>\n",
       "<tr>\n",
       "  <th>bed_bath_rooms</th>   <td>-8570.5044</td> <td> 2855.965</td> <td>   -3.001</td> <td> 0.003</td> <td>-1.42e+04</td> <td>-2972.526</td>\n",
       "</tr>\n",
       "<tr>\n",
       "  <th>bedrooms_squared</th> <td>-6788.5867</td> <td> 1493.406</td> <td>   -4.546</td> <td> 0.000</td> <td>-9715.813</td> <td>-3861.360</td>\n",
       "</tr>\n",
       "<tr>\n",
       "  <th>log_sqft_living</th>  <td>-5.618e+05</td> <td> 1.75e+04</td> <td>  -32.014</td> <td> 0.000</td> <td>-5.96e+05</td> <td>-5.27e+05</td>\n",
       "</tr>\n",
       "<tr>\n",
       "  <th>lat_plus_long</th>    <td> 1.273e+05</td> <td> 6450.344</td> <td>   19.741</td> <td> 0.000</td> <td> 1.15e+05</td> <td>  1.4e+05</td>\n",
       "</tr>\n",
       "</table>\n",
       "<table class=\"simpletable\">\n",
       "<tr>\n",
       "  <th>Omnibus:</th>       <td>10094.582</td> <th>  Durbin-Watson:     </th>  <td>   2.005</td> \n",
       "</tr>\n",
       "<tr>\n",
       "  <th>Prob(Omnibus):</th>  <td> 0.000</td>   <th>  Jarque-Bera (JB):  </th> <td>319322.176</td>\n",
       "</tr>\n",
       "<tr>\n",
       "  <th>Skew:</th>           <td> 2.240</td>   <th>  Prob(JB):          </th>  <td>    0.00</td> \n",
       "</tr>\n",
       "<tr>\n",
       "  <th>Kurtosis:</th>       <td>23.513</td>   <th>  Cond. No.          </th>  <td>1.87e+17</td> \n",
       "</tr>\n",
       "</table><br/><br/>Warnings:<br/>[1] Standard Errors assume that the covariance matrix of the errors is correctly specified.<br/>[2] The smallest eigenvalue is 2.59e-24. This might indicate that there are<br/>strong multicollinearity problems or that the design matrix is singular."
      ],
      "text/plain": [
       "<class 'statsmodels.iolib.summary.Summary'>\n",
       "\"\"\"\n",
       "                            OLS Regression Results                            \n",
       "==============================================================================\n",
       "Dep. Variable:                  price   R-squared:                       0.620\n",
       "Model:                            OLS   Adj. R-squared:                  0.620\n",
       "Method:                 Least Squares   F-statistic:                     3539.\n",
       "Date:                Wed, 19 Jan 2022   Prob (F-statistic):               0.00\n",
       "Time:                        22:16:28   Log-Likelihood:            -2.3913e+05\n",
       "No. Observations:               17384   AIC:                         4.783e+05\n",
       "Df Residuals:                   17375   BIC:                         4.784e+05\n",
       "Df Model:                           8                                         \n",
       "Covariance Type:            nonrobust                                         \n",
       "====================================================================================\n",
       "                       coef    std err          t      P>|t|      [0.025      0.975]\n",
       "------------------------------------------------------------------------------------\n",
       "const            -6.204e+07   1.61e+06    -38.449      0.000   -6.52e+07   -5.89e+07\n",
       "sqft_living        529.4228      7.691     68.836      0.000     514.348     544.498\n",
       "bedrooms          3.451e+04   9385.891      3.677      0.000    1.61e+04    5.29e+04\n",
       "bathrooms         6.706e+04   1.08e+04      6.219      0.000    4.59e+04    8.82e+04\n",
       "lat               5.341e+05   8907.125     59.962      0.000    5.17e+05    5.52e+05\n",
       "long             -4.068e+05   9007.995    -45.154      0.000   -4.24e+05   -3.89e+05\n",
       "bed_bath_rooms   -8570.5044   2855.965     -3.001      0.003   -1.42e+04   -2972.526\n",
       "bedrooms_squared -6788.5867   1493.406     -4.546      0.000   -9715.813   -3861.360\n",
       "log_sqft_living  -5.618e+05   1.75e+04    -32.014      0.000   -5.96e+05   -5.27e+05\n",
       "lat_plus_long     1.273e+05   6450.344     19.741      0.000    1.15e+05     1.4e+05\n",
       "==============================================================================\n",
       "Omnibus:                    10094.582   Durbin-Watson:                   2.005\n",
       "Prob(Omnibus):                  0.000   Jarque-Bera (JB):           319322.176\n",
       "Skew:                           2.240   Prob(JB):                         0.00\n",
       "Kurtosis:                      23.513   Cond. No.                     1.87e+17\n",
       "==============================================================================\n",
       "\n",
       "Warnings:\n",
       "[1] Standard Errors assume that the covariance matrix of the errors is correctly specified.\n",
       "[2] The smallest eigenvalue is 2.59e-24. This might indicate that there are\n",
       "strong multicollinearity problems or that the design matrix is singular.\n",
       "\"\"\""
      ]
     },
     "execution_count": 21,
     "metadata": {},
     "output_type": "execute_result"
    }
   ],
   "source": [
    "ols_3.summary()"
   ]
  },
  {
   "cell_type": "markdown",
   "metadata": {},
   "source": [
    "**Quiz Question: What is the sign (positive or negative) for the coefficient/weight for 'bathrooms' in model 1?**\n",
    "\n",
    "***positive***\n"
   ]
  },
  {
   "cell_type": "markdown",
   "metadata": {},
   "source": [
    "\n",
    "**Quiz Question: What is the sign (positive or negative) for the coefficient/weight for 'bathrooms' in model 2?**\n",
    "\n",
    "***negative***\n",
    "\n",
    "\n",
    "Think about what this means."
   ]
  },
  {
   "cell_type": "markdown",
   "metadata": {},
   "source": [
    "# Comparing multiple models\n",
    "\n",
    "Now that you've learned three models and extracted the model weights we want to evaluate which model is best."
   ]
  },
  {
   "cell_type": "markdown",
   "metadata": {},
   "source": [
    "First use your functions from earlier to compute the RSS on TRAINING Data for each of the three models."
   ]
  },
  {
   "cell_type": "code",
   "execution_count": 41,
   "metadata": {
    "ExecuteTime": {
     "end_time": "2022-01-20T04:51:57.742634Z",
     "start_time": "2022-01-20T04:51:57.727586Z"
    }
   },
   "outputs": [
    {
     "name": "stdout",
     "output_type": "stream",
     "text": [
      "RSS of model 1 , model 2 and model 3 are:  9.678800e+14 9.584196e+14 9.034365e+14\n"
     ]
    }
   ],
   "source": [
    "# Compute the RSS on TRAINING data for each of the three models and record the values:\n",
    "RSS_1 = get_residual_sum_of_squares(ols_1,X1,y)\n",
    "RSS_2 = get_residual_sum_of_squares(ols_2,X2,y)\n",
    "RSS_3 = get_residual_sum_of_squares(ols_3,X3,y)\n",
    "print('RSS of model 1 , model 2 and model 3 are: ', \"{:e}\".format(RSS_1),\"{:e}\".format(RSS_2),\"{:e}\".format(RSS_3))"
   ]
  },
  {
   "cell_type": "markdown",
   "metadata": {},
   "source": [
    "**Quiz Question: Which model (1, 2 or 3) has lowest RSS on TRAINING Data?** Is this what you expected?\n",
    "\n",
    "***model 3***"
   ]
  },
  {
   "cell_type": "markdown",
   "metadata": {},
   "source": [
    "Now compute the RSS on on TEST data for each of the three models."
   ]
  },
  {
   "cell_type": "code",
   "execution_count": 43,
   "metadata": {
    "ExecuteTime": {
     "end_time": "2022-01-20T04:52:29.468015Z",
     "start_time": "2022-01-20T04:52:29.445018Z"
    }
   },
   "outputs": [
    {
     "name": "stdout",
     "output_type": "stream",
     "text": [
      "RSS of model 1 , model 2 and model 3 are:  2.255005e+14 2.233775e+14 2.592363e+14\n"
     ]
    }
   ],
   "source": [
    "# Compute the RSS on TESTING data for each of the three models and record the values:\n",
    "y_test = test_data ['price']\n",
    "X1_test = test_data [model_1_features]\n",
    "X1_test = sm.add_constant(X1_test)\n",
    "X2_test = test_data [model_2_features]\n",
    "X2_test = sm.add_constant(X2_test)\n",
    "X3_test = test_data [model_3_features]\n",
    "X3_test = sm.add_constant(X3_test)\n",
    "RSS_1_test = get_residual_sum_of_squares(ols_1,X1_test,y_test)\n",
    "RSS_2_test = get_residual_sum_of_squares(ols_2,X2_test,y_test)\n",
    "RSS_3_test = get_residual_sum_of_squares(ols_3,X3_test,y_test)\n",
    "print('RSS of model 1 , model 2 and model 3 are: ', \"{:e}\".format(RSS_1_test),\"{:e}\".format(RSS_2_test),\"{:e}\".format(RSS_3_test))"
   ]
  },
  {
   "cell_type": "markdown",
   "metadata": {},
   "source": [
    "**Quiz Question: Which model (1, 2 or 3) has lowest RSS on TESTING Data?** Is this what you expected? Think about the features that were added to each model from the previous.\n",
    "\n",
    "***model1***"
   ]
  },
  {
   "cell_type": "code",
   "execution_count": null,
   "metadata": {},
   "outputs": [],
   "source": []
  }
 ],
 "metadata": {
  "kernelspec": {
   "display_name": "Python 3",
   "language": "python",
   "name": "python3"
  },
  "language_info": {
   "codemirror_mode": {
    "name": "ipython",
    "version": 3
   },
   "file_extension": ".py",
   "mimetype": "text/x-python",
   "name": "python",
   "nbconvert_exporter": "python",
   "pygments_lexer": "ipython3",
   "version": "3.8.3"
  },
  "toc": {
   "base_numbering": 1,
   "nav_menu": {},
   "number_sections": true,
   "sideBar": true,
   "skip_h1_title": false,
   "title_cell": "Table of Contents",
   "title_sidebar": "Contents",
   "toc_cell": false,
   "toc_position": {},
   "toc_section_display": true,
   "toc_window_display": true
  },
  "varInspector": {
   "cols": {
    "lenName": 16,
    "lenType": 16,
    "lenVar": 40
   },
   "kernels_config": {
    "python": {
     "delete_cmd_postfix": "",
     "delete_cmd_prefix": "del ",
     "library": "var_list.py",
     "varRefreshCmd": "print(var_dic_list())"
    },
    "r": {
     "delete_cmd_postfix": ") ",
     "delete_cmd_prefix": "rm(",
     "library": "var_list.r",
     "varRefreshCmd": "cat(var_dic_list()) "
    }
   },
   "types_to_exclude": [
    "module",
    "function",
    "builtin_function_or_method",
    "instance",
    "_Feature"
   ],
   "window_display": false
  }
 },
 "nbformat": 4,
 "nbformat_minor": 1
}
